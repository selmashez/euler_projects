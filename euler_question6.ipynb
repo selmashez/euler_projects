{
  "nbformat": 4,
  "nbformat_minor": 0,
  "metadata": {
    "colab": {
      "provenance": []
    },
    "kernelspec": {
      "name": "python3",
      "display_name": "Python 3"
    },
    "language_info": {
      "name": "python"
    }
  },
  "cells": [
    {
      "cell_type": "code",
      "execution_count": null,
      "metadata": {
        "id": "nI2O3JFkgpip"
      },
      "outputs": [],
      "source": []
    },
    {
      "cell_type": "markdown",
      "source": [
        "##The sum of the squares of the first ten natural numbers is,\n",
        "##1^2 + 2^2 + 3^2 + ... + 10^2 = 385\n",
        "\n",
        "##The square of the sum of the first ten natural numbers is,\n",
        "##(1+2+3+...+10)^2 = 3025\n",
        "\n",
        "##Hence the difference between the sum of the squares of the first ten natural numbers and the square of the sum is\n",
        "\n",
        "##3025 -385 = 2640\n",
        "\n",
        "##Find the difference between the sum of the squares of the first one hundred natural numbers and the square of the sum."
      ],
      "metadata": {
        "id": "m6I3YZcugt4F"
      }
    },
    {
      "cell_type": "code",
      "source": [
        "def sum_of_square(number):\n",
        "  sum1 = 0\n",
        "  for num in range(1, number+1):\n",
        "    sum1 += num ** 2\n",
        "  return sum1\n",
        "\n",
        "def square_of_sum(number):\n",
        "  sum2 = 0\n",
        "  for num in range(1, number+1):\n",
        "    sum2 += num\n",
        "  return sum2**2\n",
        "print(square_of_sum(100) - sum_of_square(100))"
      ],
      "metadata": {
        "colab": {
          "base_uri": "https://localhost:8080/"
        },
        "id": "3qI0EhMQhjuR",
        "outputId": "7714ee23-c338-495b-f3f1-80896ecce8ec"
      },
      "execution_count": null,
      "outputs": [
        {
          "output_type": "stream",
          "name": "stdout",
          "text": [
            "25164150\n"
          ]
        }
      ]
    }
  ]
}