{
  "nbformat": 4,
  "nbformat_minor": 0,
  "metadata": {
    "colab": {
      "provenance": []
    },
    "kernelspec": {
      "name": "python3",
      "display_name": "Python 3"
    },
    "language_info": {
      "name": "python"
    }
  },
  "cells": [
    {
      "cell_type": "code",
      "execution_count": null,
      "metadata": {
        "id": "ODJmNCBheou5"
      },
      "outputs": [],
      "source": []
    },
    {
      "cell_type": "markdown",
      "source": [
        "2520 is the smallest number that can be divided by each of the numbers from 1 to 10 , what is the smallest positive number that is evenly divisible by all of the numbers from 1 to 20"
      ],
      "metadata": {
        "id": "vLxhcE3_erup"
      }
    },
    {
      "cell_type": "code",
      "source": [
        "start = 2520\n",
        "\n",
        "while True:\n",
        "  flag = True\n",
        "  for i in range (3,21):\n",
        "    if start % i != 0:\n",
        "      flag = False\n",
        "      start += 20\n",
        "      break\n",
        "  if flag:\n",
        "    print(start)\n",
        "    break"
      ],
      "metadata": {
        "colab": {
          "base_uri": "https://localhost:8080/"
        },
        "id": "OuBZK8ePmsKO",
        "outputId": "02565b24-ddf3-4955-cc04-31fcf7f2f674"
      },
      "execution_count": null,
      "outputs": [
        {
          "output_type": "stream",
          "name": "stdout",
          "text": [
            "232792560\n"
          ]
        }
      ]
    }
  ]
}